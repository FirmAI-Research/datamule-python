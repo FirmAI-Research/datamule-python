{
 "cells": [
  {
   "cell_type": "markdown",
   "metadata": {},
   "source": [
    "Simple demo to test out new `Portfolio` features as well as selecting documents by text."
   ]
  },
  {
   "cell_type": "code",
   "execution_count": 2,
   "metadata": {},
   "outputs": [
    {
     "name": "stdout",
     "output_type": "stream",
     "text": [
      "Default source: sec\n",
      "Loading 28 submissions\n"
     ]
    },
    {
     "name": "stderr",
     "output_type": "stream",
     "text": [
      "Loading submissions: 100%|██████████| 28/28 [00:00<00:00, 150.83it/s]\n",
      "Progress [Rate: 5.0/s | 0.01 MB/s]: 100%|██████████| 24/24 [00:02<00:00, 11.06it/s]\n",
      "Progress [Rate: 6.0/s | 6.17 MB/s]: 100%|██████████| 24/24 [00:05<00:00,  4.04it/s]  \n"
     ]
    }
   ],
   "source": [
    "from datamule import Portfolio, Config\n",
    "\n",
    "# we can set the default download source for the portfolio to either datamule or sec\n",
    "# datamule is faster, and has more data, but costs $1/100,000 downloads. SEC is free but rate limited at 5 requests per second.\n",
    "# sec is the default source\n",
    "config = Config()\n",
    "config.set_default_source(\"datamule\") # set default source to datamule\n",
    "print(f\"Default source: {config.get_default_source()}\")\n",
    "portfolio = Portfolio('ingest/test3')\n",
    "\n",
    "portfolio.download_submissions(ticker='MSFT',submission_type='10-K')"
   ]
  }
 ],
 "metadata": {
  "kernelspec": {
   "display_name": "Python 3",
   "language": "python",
   "name": "python3"
  },
  "language_info": {
   "codemirror_mode": {
    "name": "ipython",
    "version": 3
   },
   "file_extension": ".py",
   "mimetype": "text/x-python",
   "name": "python",
   "nbconvert_exporter": "python",
   "pygments_lexer": "ipython3",
   "version": "3.11.5"
  }
 },
 "nbformat": 4,
 "nbformat_minor": 2
}
