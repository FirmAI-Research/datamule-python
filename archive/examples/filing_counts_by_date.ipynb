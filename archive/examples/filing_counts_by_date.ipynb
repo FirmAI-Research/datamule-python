{
 "cells": [
  {
   "cell_type": "code",
   "execution_count": 2,
   "metadata": {},
   "outputs": [
    {
     "name": "stdout",
     "output_type": "stream",
     "text": [
      "shape: (7_848, 2)\n",
      "┌─────────────┬──────┐\n",
      "│ filing_date ┆ len  │\n",
      "│ ---         ┆ ---  │\n",
      "│ str         ┆ u32  │\n",
      "╞═════════════╪══════╡\n",
      "│ 2006-07-18  ┆ 471  │\n",
      "│ 2016-07-27  ┆ 973  │\n",
      "│ 2013-08-05  ┆ 1200 │\n",
      "│ 1999-10-21  ┆ 74   │\n",
      "│ 1994-08-09  ┆ 30   │\n",
      "│ …           ┆ …    │\n",
      "│ 2019-09-26  ┆ 964  │\n",
      "│ 2002-06-17  ┆ 99   │\n",
      "│ 2005-03-22  ┆ 521  │\n",
      "│ 2014-01-08  ┆ 795  │\n",
      "│ 1994-11-10  ┆ 77   │\n",
      "└─────────────┴──────┘\n"
     ]
    }
   ],
   "source": [
    "import polars as pl\n",
    "\n",
    "df = pl.read_csv('data/submissions_index.csv')\n",
    "df_selected = df.select(['accession_number', 'filing_date', 'form']).unique()\n",
    "counts_by_date = df_selected.group_by('filing_date').len()\n",
    "print(counts_by_date)\n"
   ]
  }
 ],
 "metadata": {
  "kernelspec": {
   "display_name": "Python 3",
   "language": "python",
   "name": "python3"
  },
  "language_info": {
   "codemirror_mode": {
    "name": "ipython",
    "version": 3
   },
   "file_extension": ".py",
   "mimetype": "text/x-python",
   "name": "python",
   "nbconvert_exporter": "python",
   "pygments_lexer": "ipython3",
   "version": "3.11.5"
  }
 },
 "nbformat": 4,
 "nbformat_minor": 2
}
