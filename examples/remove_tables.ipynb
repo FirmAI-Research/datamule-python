{
 "cells": [
  {
   "cell_type": "markdown",
   "metadata": {},
   "source": [
    "Remove tables from a 10-K"
   ]
  },
  {
   "cell_type": "raw",
   "metadata": {
    "vscode": {
     "languageId": "raw"
    }
   },
   "source": [
    "pip install selectolax\n",
    "pip install datamule"
   ]
  },
  {
   "cell_type": "code",
   "execution_count": 5,
   "metadata": {},
   "outputs": [
    {
     "name": "stdout",
     "output_type": "stream",
     "text": [
      "\n",
      "Cost: $0.001510000000 downloads + $0.000000152000 row reads = $0.001510152000\n",
      "Balance: $16.775512369000\n"
     ]
    },
    {
     "name": "stderr",
     "output_type": "stream",
     "text": [
      "Processing files: 100%|██████████| 151/151 [00:27<00:00,  5.59it/s]\n"
     ]
    },
    {
     "name": "stdout",
     "output_type": "stream",
     "text": [
      "\n",
      "Processing completed in 27.05 seconds\n",
      "Loading 151 submissions\n"
     ]
    },
    {
     "name": "stderr",
     "output_type": "stream",
     "text": [
      "Loading submissions: 100%|██████████| 151/151 [00:00<00:00, 1469.59it/s]\n"
     ]
    }
   ],
   "source": [
    "# Data download - you can skip this if you already have the data\n",
    "from datamule import Portfolio \n",
    "\n",
    "# Download the data\n",
    "portfolio = Portfolio('10k/dec24')\n",
    "portfolio.download_submissions(submission_type=['10-K'],filing_date=('2024-12-01','2024-12-31'))"
   ]
  },
  {
   "cell_type": "code",
   "execution_count": null,
   "metadata": {},
   "outputs": [
    {
     "name": "stdout",
     "output_type": "stream",
     "text": [
      "Loading 151 submissions\n"
     ]
    },
    {
     "name": "stderr",
     "output_type": "stream",
     "text": [
      "Loading submissions: 100%|██████████| 151/151 [00:00<00:00, 3900.74it/s]\n",
      "Processing submissions: 100%|██████████| 151/151 [00:02<00:00, 52.29it/s]\n"
     ]
    }
   ],
   "source": [
    "from datamule import Portfolio \n",
    "from selectolax.parser import HTMLParser\n",
    "import os\n",
    "\n",
    "portfolio = Portfolio('10k/dec24')\n",
    "\n",
    "def remove_tables(submission):\n",
    "   for document in submission.document_type(['10-K']):\n",
    "       with open(document.path, 'r', encoding='utf-8') as f:\n",
    "           html = f.read()\n",
    "       tree = HTMLParser(html)\n",
    "       \n",
    "       for table in tree.css('table'):\n",
    "           table.decompose()\n",
    "           \n",
    "       filename = document.path.name\n",
    "       with open(f\"no_tables_10k/{filename.replace('.html', '_no_tables.html')}\", 'w', encoding='utf-8') as f:\n",
    "           f.write(tree.html)\n",
    "\n",
    "os.makedirs('no_tables_10k', exist_ok=True)\n",
    "# _ just collects the none output\n",
    "_ = portfolio.process_submissions(remove_tables)"
   ]
  }
 ],
 "metadata": {
  "kernelspec": {
   "display_name": "Python 3",
   "language": "python",
   "name": "python3"
  },
  "language_info": {
   "codemirror_mode": {
    "name": "ipython",
    "version": 3
   },
   "file_extension": ".py",
   "mimetype": "text/x-python",
   "name": "python",
   "nbconvert_exporter": "python",
   "pygments_lexer": "ipython3",
   "version": "3.11.5"
  }
 },
 "nbformat": 4,
 "nbformat_minor": 2
}
