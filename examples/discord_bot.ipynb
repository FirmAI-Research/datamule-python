{
 "cells": [
  {
   "cell_type": "markdown",
   "metadata": {},
   "source": [
    "WIP\n",
    "\n",
    "1. Go to https://discord.com/developers/applications\n",
    "2. Click \"New Application\" and give it a name (I called mine sec-bot)\n",
    "3. Create a token and copy it \n",
    "4. Under \"Privileged Gateway Intents\", enable \"Message Content Intent\"\n",
    "5. Go to Oauth2. Enable bot, messages.read and Send Messages"
   ]
  }
 ],
 "metadata": {
  "language_info": {
   "name": "python"
  }
 },
 "nbformat": 4,
 "nbformat_minor": 2
}
