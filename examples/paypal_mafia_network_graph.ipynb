{
 "cells": [
  {
   "cell_type": "markdown",
   "metadata": {},
   "source": [
    "Visualizing the Paypal Mafia's influence using a network graph. Data is from regulatory disclosures: 3,4,5, SC 13D(/A), and SC 13G(/A). \n",
    "\n",
    "Code includes preparation as well as plotting. You can skip the preparation stage and go straight to the plotting using dataset data/paypal_edges.csv\n",
    "\n",
    "![paypal] (plots/paypal_mafia_network_graph.png)"
   ]
  },
  {
   "cell_type": "code",
   "execution_count": 1,
   "metadata": {},
   "outputs": [],
   "source": [
    "# Getting the CIKs of the PayPal Mafia members\n",
    "paypal_mafia_cik = {\n",
    "    \"Peter Thiel\": \"1211060\",\n",
    "    \"Max Levchin\": \"1539853\",\n",
    "    \"Elon Musk\": \"1494730\",\n",
    "    \"David O. Sacks\": \"1891801\",\n",
    "    \"Roelof Botha\": \"1222287\",\n",
    "    \"Reid Hoffman\": \"1519339\",\n",
    "    \"Chad Hurley\": \"1750295\",\n",
    "    \"Luke Nosek\": \"1835310\",\n",
    "    \"Keith Rabois\": \"1539865\",\n",
    "    \"Jack Selby\": \"1870713\",\n",
    "}"
   ]
  },
  {
   "cell_type": "code",
   "execution_count": 35,
   "metadata": {},
   "outputs": [
    {
     "name": "stdout",
     "output_type": "stream",
     "text": [
      "\n",
      "Cost: $0.004670000000 downloads + $0.005699293000 row reads = $0.010369293000\n",
      "Balance: $9.594538817000\n"
     ]
    },
    {
     "name": "stderr",
     "output_type": "stream",
     "text": [
      "Processing files: 100%|██████████| 467/467 [00:06<00:00, 77.20it/s] "
     ]
    },
    {
     "name": "stdout",
     "output_type": "stream",
     "text": [
      "\n",
      "Processing completed in 6.05 seconds\n"
     ]
    },
    {
     "name": "stderr",
     "output_type": "stream",
     "text": [
      "\n"
     ]
    }
   ],
   "source": [
    "# Downloading the data. the final dataset is stored in the data/ folder so you can skip this\n",
    "\n",
    "from datamule import PremiumDownloader, Downloader, Portfolio\n",
    "\n",
    "\n",
    "downloader = PremiumDownloader()\n",
    "# downloader = Downloader() # This works, but is slower.\n",
    "\n",
    "ciks = [key for key in paypal_mafia_cik.values()]\n",
    "\n",
    "# Note: sometimes D/A and G/A can be submitted even if there is no D or G.\n",
    "downloader.download_submissions(submission_type=['3','4','5','SC 13D','SC 13G','SC 13D/A','SC 13G/A'],cik=ciks,output_dir='ingest/paypal')"
   ]
  },
  {
   "cell_type": "code",
   "execution_count": null,
   "metadata": {},
   "outputs": [
    {
     "name": "stdout",
     "output_type": "stream",
     "text": [
      "Loading 467 submissions\n"
     ]
    },
    {
     "name": "stderr",
     "output_type": "stream",
     "text": [
      "Loading submissions: 100%|██████████| 467/467 [00:00<00:00, 2130.33it/s]"
     ]
    },
    {
     "name": "stdout",
     "output_type": "stream",
     "text": [
      "If you see this error after January 10th, feel free to shame me for my laziness. ingest\\paypal\\000095017024009914: 'OWNER-DATA'\n",
      "If you see this error after January 10th, feel free to shame me for my laziness. ingest\\paypal\\000095017024012830: 'OWNER-DATA'\n"
     ]
    },
    {
     "name": "stderr",
     "output_type": "stream",
     "text": [
      "\n"
     ]
    }
   ],
   "source": [
    "# Constructing the edge list\n",
    "import pandas as pd\n",
    "\n",
    "portfolio = Portfolio('ingest/paypal')\n",
    "\n",
    "edge_list = []\n",
    "for submission in portfolio:\n",
    "    metadata = submission.metadata['submission']\n",
    "    filing_date = metadata['FILING-DATE']\n",
    "\n",
    "    # Try block is here because the parse SGML function I wrote to parse SGML fails on certain edge cases. I'm tired and don't want to mess with pointers and mutable objects right now. Will fix later.\n",
    "    try:\n",
    "        # 3,4,5 metadata (Forms 3, 4, 5)\n",
    "        if 'REPORTING-OWNER' in metadata.keys():\n",
    "            # Create edges between each reporting owner and the issuer\n",
    "            issuer_data = metadata['ISSUER'][0]  # Assuming single issuer\n",
    "            issuer_name = issuer_data['COMPANY-DATA']['CONFORMED-NAME']\n",
    "            issuer_cik = issuer_data['COMPANY-DATA']['CIK']\n",
    "            \n",
    "            for owner in metadata['REPORTING-OWNER']:\n",
    "                owner_name = owner['OWNER-DATA']['CONFORMED-NAME']\n",
    "                owner_cik = owner['OWNER-DATA']['CIK']\n",
    "                \n",
    "                edge_list.append({\n",
    "                    'date': filing_date,\n",
    "                    'source_name': owner_name,\n",
    "                    'source_cik': owner_cik,\n",
    "                    'target_name': issuer_name,\n",
    "                    'target_cik': issuer_cik,\n",
    "                })\n",
    "\n",
    "        # SC 13D(/A) and SC 13G(/A) metadata\n",
    "        else:\n",
    "            # Archive style metadata\n",
    "            if 'SUBJECT-COMPANY' in metadata.keys():\n",
    "                subject_name = metadata['SUBJECT-COMPANY']['COMPANY-DATA']['CONFORMED-NAME']\n",
    "                subject_cik = metadata['SUBJECT-COMPANY']['COMPANY-DATA']['CIK']\n",
    "                filer_name = metadata['FILED-BY']['COMPANY-DATA']['CONFORMED-NAME']\n",
    "                filer_cik = metadata['FILED-BY']['COMPANY-DATA']['CIK']\n",
    "\n",
    "            # Header style metadata\n",
    "            else:\n",
    "                subject_name = metadata['SUBJECT COMPANY']['COMPANY DATA']['COMPANY CONFORMED NAME']\n",
    "                subject_cik = metadata['SUBJECT COMPANY']['COMPANY DATA']['CENTRAL INDEX KEY']\n",
    "                filer_name = metadata['FILED BY']['COMPANY DATA']['COMPANY CONFORMED-NAME']\n",
    "                filer_cik = metadata['FILED BY']['COMPANY DATA']['CENTRAL INDEX KEY']\n",
    "\n",
    "            edge_list.append({\n",
    "                'date': filing_date,\n",
    "                'source_name': filer_name,\n",
    "                'source_cik': filer_cik,\n",
    "                'target_name': subject_name,\n",
    "                'target_cik': subject_cik,\n",
    "            })\n",
    "\n",
    "    except Exception as e:\n",
    "        print(f\"If you see this error after January 10th, feel free to shame me for my laziness. {submission.path}: {str(e)}\")\n",
    "\n",
    "# Convert to DataFrame\n",
    "edges_df = pd.DataFrame(edge_list)\n",
    "# convert ciks to int\n",
    "edges_df['source_cik'] = edges_df['source_cik'].astype(int)\n",
    "edges_df['target_cik'] = edges_df['target_cik'].astype(int)\n",
    "# \n",
    "\n",
    "edges_df.to_csv('data/paypal_edges.csv', index=False)"
   ]
  },
  {
   "cell_type": "code",
   "execution_count": 45,
   "metadata": {},
   "outputs": [],
   "source": [
    "# Plotting the network graph\n",
    "\n",
    "import networkx as nx\n",
    "import matplotlib.pyplot as plt\n",
    "from matplotlib.colors import to_rgb\n",
    "import matplotlib.patches as mpatches\n",
    "\n",
    "# Create directed graph\n",
    "G = nx.DiGraph()\n",
    "\n",
    "# Add edges and store names as node attributes\n",
    "for _, row in edges_df.iterrows():\n",
    "    # Extract last name for mafia members\n",
    "    source_name = row['source_name'].split()[0] if str(row['source_cik']) in paypal_mafia_cik.values() else row['source_name']\n",
    "    G.add_node(str(row['source_cik']), name=source_name)\n",
    "    G.add_node(str(row['target_cik']), name=row['target_name'])\n",
    "    G.add_edge(str(row['source_cik']), str(row['target_cik']))\n",
    "\n",
    "# Set style\n",
    "plt.style.use('dark_background')\n",
    "fig = plt.figure(figsize=(20, 11.25), dpi=300, facecolor='#0D1117')\n",
    "ax = plt.gca()\n",
    "ax.set_facecolor('#0D1117')\n",
    "\n",
    "# Use circular layout\n",
    "pos = nx.circular_layout(G, scale=0.7)\n",
    "\n",
    "# Define Thiel's color and connection color\n",
    "thiel_cik = \"1211060\"\n",
    "thiel_color = \"#FF6B6B\"  # coral red\n",
    "thiel_connection_color = lighten_color(thiel_color)\n",
    "mafia_color = \"#4ECDC4\"  # turquoise for other mafia members\n",
    "\n",
    "# Create color map for nodes\n",
    "node_colors = []\n",
    "for node in G.nodes():\n",
    "    node_str = str(node)\n",
    "    if node_str == thiel_cik:  # Thiel\n",
    "        node_colors.append(thiel_color)\n",
    "    elif node_str in paypal_mafia_cik.values():  # Other PayPal Mafia members\n",
    "        node_colors.append(mafia_color)\n",
    "    else:\n",
    "        # Check if node is connected to Thiel\n",
    "        if G.has_edge(thiel_cik, node_str):\n",
    "            node_colors.append(thiel_connection_color)\n",
    "        else:\n",
    "            node_colors.append('#808080')  # gray for others\n",
    "\n",
    "# Draw nodes with a glowing effect\n",
    "nx.draw_networkx_nodes(G, pos, node_size=700, node_color=node_colors, alpha=0.9,\n",
    "                      edgecolors='white', linewidths=1)\n",
    "\n",
    "# Draw edges with a subtle curve and glow\n",
    "nx.draw_networkx_edges(G, pos, edge_color='#ffffff33', arrows=True, \n",
    "                      width=1, alpha=0.3, connectionstyle=\"arc3,rad=0.2\")\n",
    "\n",
    "# Create labels\n",
    "labels = {node: G.nodes[node]['name'] for node in G.nodes()}\n",
    "label_pos = {node: (coord[0]*1.05, coord[1]*1.05) for node, coord in pos.items()}\n",
    "\n",
    "# Draw labels with semi-transparent background\n",
    "for node, (x, y) in label_pos.items():\n",
    "    bbox_color = '#1F2937'\n",
    "    plt.text(x, y, labels[node], \n",
    "             fontsize=7,\n",
    "             color='white',\n",
    "             bbox=dict(facecolor=bbox_color, edgecolor='none', alpha=0.7, pad=2),\n",
    "             horizontalalignment='center',\n",
    "             verticalalignment='center',\n",
    "             fontweight='bold')\n",
    "\n",
    "# Add legend\n",
    "legend_elements = [\n",
    "    mpatches.Patch(color=thiel_color, label='Peter Thiel'),\n",
    "    mpatches.Patch(color=thiel_connection_color, label='Thiel Connections'),\n",
    "    mpatches.Patch(color=mafia_color, label='Other PayPal Mafia'),\n",
    "    mpatches.Patch(color='#808080', label='Other Entities')\n",
    "]\n",
    "plt.legend(handles=legend_elements, \n",
    "          loc='upper right', \n",
    "          bbox_to_anchor=(1, 1),\n",
    "          facecolor='#1F2937',\n",
    "          edgecolor='none',\n",
    "          labelcolor='white')\n",
    "\n",
    "plt.title(\"PayPal Mafia: Network of Insider Disclosures\\n\", \n",
    "          color='white', \n",
    "          pad=20, \n",
    "          fontsize=16,\n",
    "          fontweight='bold')\n",
    "\n",
    "# Add subtitle\n",
    "plt.figtext(0.5, 0.95, \n",
    "            \"Generated from SEC Forms 3, 4, 5 and Schedules 13D/A, 13G/A\", \n",
    "            color='#666666',\n",
    "            fontsize=10,\n",
    "            ha='center')\n",
    "\n",
    "plt.figtext(0.99, 0.01, 'Data source: SEC EDGAR', \n",
    "            ha='right', va='bottom', color='#666666', fontsize=8)\n",
    "\n",
    "plt.axis('off')\n",
    "plt.tight_layout()\n",
    "\n",
    "plt.savefig('plots/paypal_mafia_network_graph.png', \n",
    "            dpi=300,\n",
    "            bbox_inches='tight',\n",
    "            pad_inches=0.5,\n",
    "            facecolor='#0D1117',\n",
    "            edgecolor='none')\n",
    "\n",
    "plt.close()\n"
   ]
  }
 ],
 "metadata": {
  "kernelspec": {
   "display_name": "Python 3",
   "language": "python",
   "name": "python3"
  },
  "language_info": {
   "codemirror_mode": {
    "name": "ipython",
    "version": 3
   },
   "file_extension": ".py",
   "mimetype": "text/x-python",
   "name": "python",
   "nbconvert_exporter": "python",
   "pygments_lexer": "ipython3",
   "version": "3.11.5"
  }
 },
 "nbformat": 4,
 "nbformat_minor": 2
}
