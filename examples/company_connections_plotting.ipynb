{
 "cells": [
  {
   "cell_type": "code",
   "execution_count": null,
   "metadata": {},
   "outputs": [
    {
     "name": "stdout",
     "output_type": "stream",
     "text": [
      "Loading data...\n",
      "Creating network...\n",
      "Drawing network...\n"
     ]
    }
   ],
   "source": [
    "# imports\n",
    "import pandas as pd\n",
    "import networkx as nx\n",
    "import matplotlib.pyplot as plt\n",
    "from datamule import load_package_dataset\n",
    "\n",
    "# Load Data \n",
    "print(\"Loading data...\")\n",
    "df = pd.read_csv('data/345_edge_list_2024.csv', dtype={'origin': int, 'destination': int})\n",
    "tickers = pd.DataFrame(load_package_dataset('company_tickers'))\n",
    "tickers['cik'] = tickers['cik'].astype(int)\n",
    "df = df.merge(tickers, left_on='origin', right_on='cik')\n",
    "\n",
    "# Create network\n",
    "print(\"Creating network...\")\n",
    "G = nx.from_pandas_edgelist(df, 'origin', 'destination')\n",
    "\n",
    "# Draw the network\n",
    "print(\"Drawing network...\")\n",
    "plt.figure(figsize=(15, 15))\n",
    "pos = nx.spring_layout(G)\n",
    "nx.draw(G, pos, \n",
    "        node_color='lightblue',\n",
    "        node_size=100,\n",
    "        with_labels=False)\n",
    "plt.title(\"Network Graph\")\n",
    "plt.show()\n",
    "\n",
    "# Print some basic network statistics\n",
    "print(f\"Number of nodes: {G.number_of_nodes()}\")\n",
    "print(f\"Number of edges: {G.number_of_edges()}\")\n",
    "print(f\"Network density: {nx.density(G):.4f}\")"
   ]
  }
 ],
 "metadata": {
  "kernelspec": {
   "display_name": "Python 3",
   "language": "python",
   "name": "python3"
  },
  "language_info": {
   "codemirror_mode": {
    "name": "ipython",
    "version": 3
   },
   "file_extension": ".py",
   "mimetype": "text/x-python",
   "name": "python",
   "nbconvert_exporter": "python",
   "pygments_lexer": "ipython3",
   "version": "3.11.5"
  }
 },
 "nbformat": 4,
 "nbformat_minor": 2
}
