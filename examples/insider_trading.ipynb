{
 "cells": [
  {
   "cell_type": "code",
   "execution_count": 6,
   "metadata": {},
   "outputs": [
    {
     "name": "stdout",
     "output_type": "stream",
     "text": [
      "\n",
      "Cost: $0.166720000000 downloads + $0.000016673000 row reads = $0.166736673000\n",
      "Balance: $17.322450667000\n"
     ]
    },
    {
     "name": "stderr",
     "output_type": "stream",
     "text": [
      "Processing files: 100%|█████████▉| 16670/16672 [01:02<00:00, 267.94it/s]\n"
     ]
    },
    {
     "name": "stdout",
     "output_type": "stream",
     "text": [
      "\n",
      "Processing completed in 62.23 seconds\n"
     ]
    }
   ],
   "source": [
    "# Convert 1 month of 3,4,5 data into csv\n",
    "\n",
    "from datamule import Submission,Portfolio, PremiumDownloader\n",
    "import pandas as pd\n",
    "\n",
    "# I set my api_key using the environment variable 'DATAMULE_API_KEY'\n",
    "downloader = PremiumDownloader()\n",
    "\n",
    "# Downloads for me in about 1 minute (300/sec)\n",
    "downloader.download_submissions(filing_date=('2023-01-01','2023-01-31'),submission_type='4',output_dir='jan_23')\n",
    "portfolio = Portfolio('jan_23')\n",
    "\n",
    "\n",
    "# This is not optimized for speed, but it's a good example of how to iterate over the portfolio. Takes about 1 minute to run\n",
    "df_list = []\n",
    "for submission in portfolio:\n",
    "    for form_4 in submission.document_type('4'):\n",
    "        df_list.append(pd.DataFrame(form_4))\n",
    "\n",
    "df = pd.concat(df_list)\n",
    "df.to_csv('jan_23.csv',index=False)\n"
   ]
  }
 ],
 "metadata": {
  "kernelspec": {
   "display_name": "Python 3",
   "language": "python",
   "name": "python3"
  },
  "language_info": {
   "codemirror_mode": {
    "name": "ipython",
    "version": 3
   },
   "file_extension": ".py",
   "mimetype": "text/x-python",
   "name": "python",
   "nbconvert_exporter": "python",
   "pygments_lexer": "ipython3",
   "version": "3.11.5"
  }
 },
 "nbformat": 4,
 "nbformat_minor": 2
}
