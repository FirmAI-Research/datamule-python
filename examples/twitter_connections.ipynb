{
 "cells": [
  {
   "cell_type": "markdown",
   "metadata": {},
   "source": [
    "Visualizing insider connections for twitter from form 3,4,5 regulatory disclosures with an animated network graph."
   ]
  },
  {
   "cell_type": "code",
   "execution_count": 1,
   "metadata": {},
   "outputs": [
    {
     "name": "stdout",
     "output_type": "stream",
     "text": [
      "Starting iteration 0\n",
      "Processing ['1418091'] to twitter_345/0\n",
      "\n",
      "Cost: $0.003980000000 downloads + $0.004853621000 row reads = $0.008833621000\n",
      "Balance: $9.675979633000\n"
     ]
    },
    {
     "name": "stderr",
     "output_type": "stream",
     "text": [
      "Processing files: 100%|██████████| 398/398 [00:03<00:00, 118.22it/s]\n"
     ]
    },
    {
     "name": "stdout",
     "output_type": "stream",
     "text": [
      "\n",
      "Processing completed in 3.38 seconds\n",
      "Loading 398 submissions\n"
     ]
    },
    {
     "name": "stderr",
     "output_type": "stream",
     "text": [
      "Loading submissions: 100%|██████████| 398/398 [00:00<00:00, 6803.77it/s]\n"
     ]
    },
    {
     "name": "stdout",
     "output_type": "stream",
     "text": [
      "Starting iteration 1\n",
      "Processing ['0001219230', '0001590849', '0001590850', '0001197957', '0001590848', '0001590847', '0001623646', '0001610312', '0001504326', '0001672336', '0001590953', '0001590945', '0001119838', '0001363391', '0001377489', '0001590401', '0001294397', '0001237860', '0001590852', '0001609815', '0001590803', '0001590851', '0001635648', '0001613438', '0001513441', '0001593642', '0001193339', '0001624030', '0001644368', '0001591174'] to twitter_345/1\n",
      "\n",
      "Cost: $0.010180000000 downloads + $0.004853621000 row reads = $0.015033621000\n",
      "Balance: $9.660946012000\n"
     ]
    },
    {
     "name": "stderr",
     "output_type": "stream",
     "text": [
      "Processing files: 100%|██████████| 1018/1018 [00:08<00:00, 126.50it/s]\n"
     ]
    },
    {
     "name": "stdout",
     "output_type": "stream",
     "text": [
      "\n",
      "Processing completed in 8.05 seconds\n",
      "Loading 1018 submissions\n"
     ]
    },
    {
     "name": "stderr",
     "output_type": "stream",
     "text": [
      "Loading submissions: 100%|██████████| 1018/1018 [00:00<00:00, 1422.62it/s]\n"
     ]
    }
   ],
   "source": [
    "from datamule import PremiumDownloader, Downloader, Portfolio\n",
    "\n",
    "downloader = PremiumDownloader()\n",
    "ciks_to_download = set(['1418091'])  # Use a set to avoid duplicates\n",
    "ciks_downloaded = set()  # Use a set for downloaded CIKs too\n",
    "\n",
    "for iteration in range(2):\n",
    "    print(f\"Starting iteration {iteration}\")\n",
    "    output_dir = f'twitter_345/{iteration}'\n",
    "    \n",
    "    # Get CIKs that haven't been downloaded yet\n",
    "    ciks_to_process = list(ciks_to_download - ciks_downloaded)\n",
    "    \n",
    "    print(f\"Processing {ciks_to_process} to {output_dir}\")\n",
    "    downloader.download_submissions(\n",
    "        submission_type=['3','4','5'],\n",
    "        output_dir=output_dir,\n",
    "        cik=ciks_to_process,\n",
    "        )\n",
    "    \n",
    "    # Add processed CIKs to downloaded set\n",
    "    ciks_downloaded.update(ciks_to_process)\n",
    "    \n",
    "    portfolio = Portfolio(output_dir)\n",
    "    for submission in portfolio.submissions:\n",
    "        for document in submission.document_type(['3','4','5']):\n",
    "            try:\n",
    "                document.parse()\n",
    "                cik = document.data['metadata']['reportingOwner']['cik']\n",
    "                ciks_to_download.add(cik)\n",
    "            except Exception as e:\n",
    "                print(f\"Error parsing document {document.filename}: {e}\") # 3,4,5 Parser currently can only parse XML. So 2005 era filings will fail.\n"
   ]
  },
  {
   "cell_type": "code",
   "execution_count": 10,
   "metadata": {},
   "outputs": [
    {
     "name": "stdout",
     "output_type": "stream",
     "text": [
      "{'metadata': {'schemaVersion': 'X0306', 'documentType': '4', 'periodOfReport': '2014-05-06', 'dateOfOriginalSubmission': '', 'form3HoldingsReported': '', 'form4TransactionsReported': '', 'issuer': {'cik': '0001418091', 'name': 'TWITTER, INC.', 'tradingSymbol': 'TWTR'}, 'reportingOwner': {'cik': '0001590803', 'name': 'RTLC Management, LLC', 'address': {'street1': '260 EAST BROWN STREET', 'street2': 'SUITE 380', 'city': 'BIRMINGHAM', 'state': 'MI', 'zip': '48009', 'stateDescription': ''}, 'relationship': {'isDirector': '0', 'isOfficer': '0', 'isTenPercentOwner': '1', 'isOther': '0', 'officerTitle': ''}}, 'signature': {'name': '/s/ Viqar Shariff, Vice President, RTLC Management, LLC', 'date': '2014-05-08'}}, 'holdings': [{'type': 'non-derivative', 'securityTitle': {'value': 'Common Stock'}, 'postTransactionAmounts': {'sharesOwned': {'value': '0'}}, 'ownershipNature': {'directOrIndirect': 'I'}, 'transactionDate': {'value': '2014-05-06'}, 'transactionCoding': {'formType': '4', 'code': 'J', 'equitySwapInvolved': '0'}, 'transactionAmounts': {'shares': {'value': '634296'}, 'pricePerShare': {'value': '0'}, 'acquiredDisposedCode': {'value': 'D'}}}, {'type': 'non-derivative', 'securityTitle': {'value': 'Common Stock'}, 'postTransactionAmounts': {'sharesOwned': {'value': '0'}}, 'ownershipNature': {'directOrIndirect': 'I'}, 'transactionDate': {'value': '2014-05-06'}, 'transactionCoding': {'formType': '4', 'code': 'J', 'equitySwapInvolved': '0'}, 'transactionAmounts': {'shares': {'value': '20047516'}, 'pricePerShare': {'value': '0'}, 'acquiredDisposedCode': {'value': 'D'}}}, {'type': 'non-derivative', 'securityTitle': {'value': 'Common Stock'}, 'postTransactionAmounts': {'sharesOwned': {'value': '0'}}, 'ownershipNature': {'directOrIndirect': 'I'}, 'transactionDate': {'value': '2014-05-06'}, 'transactionCoding': {'formType': '4', 'code': 'J', 'equitySwapInvolved': '0'}, 'transactionAmounts': {'shares': {'value': '1471200'}, 'pricePerShare': {'value': '0'}, 'acquiredDisposedCode': {'value': 'D'}}}, {'type': 'non-derivative', 'securityTitle': {'value': 'Common Stock'}, 'postTransactionAmounts': {'sharesOwned': {'value': '0'}}, 'ownershipNature': {'directOrIndirect': 'I'}, 'transactionDate': {'value': '2014-05-06'}, 'transactionCoding': {'formType': '4', 'code': 'J', 'equitySwapInvolved': '0'}, 'transactionAmounts': {'shares': {'value': '17283700'}, 'pricePerShare': {'value': '0'}, 'acquiredDisposedCode': {'value': 'D'}}}]}\n"
     ]
    }
   ],
   "source": [
    "from datamule import Document \n",
    "\n",
    "document = Document(filename='twitter_345/0/000110465914036575/a4.xml',type='3')\n",
    "document.parse()\n",
    "print(document.data)"
   ]
  },
  {
   "cell_type": "code",
   "execution_count": 2,
   "metadata": {},
   "outputs": [
    {
     "name": "stderr",
     "output_type": "stream",
     "text": [
      "Processing submissions: 100%|██████████| 1018/1018 [00:00<00:00, 1558.96it/s]\n"
     ]
    }
   ],
   "source": [
    "# Parse every 3,4,5 document\n",
    "from tqdm import tqdm\n",
    "\n",
    "d_list = []\n",
    "total_submissions = len(portfolio.submissions)\n",
    "for submission in tqdm(portfolio, total=total_submissions, desc=\"Processing submissions\"):\n",
    "    for form in submission.document_type(['3','4','5']):\n",
    "        form.parse()\n",
    "        d_list.append({\n",
    "            'origin': form.data['metadata']['issuer']['cik'],\n",
    "            'destination': form.data['metadata']['reportingOwner']['cik']\n",
    "        })\n",
    "\n",
    "# Save the edge list to a CSV file\n",
    "import pandas as pd\n",
    "\n",
    "# Create DataFrame\n",
    "df = pd.DataFrame(d_list)\n",
    "\n",
    "# Write to CSV file without duplicates\n",
    "df.drop_duplicates().to_csv('data/twitter_345_edge_list.csv', index=False)"
   ]
  }
 ],
 "metadata": {
  "kernelspec": {
   "display_name": "Python 3",
   "language": "python",
   "name": "python3"
  },
  "language_info": {
   "codemirror_mode": {
    "name": "ipython",
    "version": 3
   },
   "file_extension": ".py",
   "mimetype": "text/x-python",
   "name": "python",
   "nbconvert_exporter": "python",
   "pygments_lexer": "ipython3",
   "version": "3.11.5"
  }
 },
 "nbformat": 4,
 "nbformat_minor": 2
}
