{
 "cells": [
  {
   "cell_type": "code",
   "execution_count": 2,
   "metadata": {},
   "outputs": [
    {
     "ename": "ParseError",
     "evalue": "XML or text declaration not at start of entity: line 2, column 0 (<string>)",
     "output_type": "error",
     "traceback": [
      "Traceback \u001b[1;36m(most recent call last)\u001b[0m:\n",
      "\u001b[0m  File \u001b[0;32m~\\AppData\\Roaming\\Python\\Python311\\site-packages\\IPython\\core\\interactiveshell.py:3550\u001b[0m in \u001b[0;35mrun_code\u001b[0m\n    exec(code_obj, self.user_global_ns, self.user_ns)\u001b[0m\n",
      "\u001b[0m  Cell \u001b[0;32mIn[2], line 12\u001b[0m\n    data = form_4.parse()\u001b[0m\n",
      "\u001b[0m  File \u001b[0;32mc:\\users\\jgfri\\onedrive\\desktop\\datamule-python\\datamule\\datamule\\document.py:18\u001b[0m in \u001b[0;35mparse\u001b[0m\n    self.data = parser.parse_filing(self.filename, self.type)\u001b[0m\n",
      "\u001b[0m  File \u001b[0;32mc:\\users\\jgfri\\onedrive\\desktop\\datamule-python\\datamule\\datamule\\parser\\document_parsing\\sec_parser.py:29\u001b[0m in \u001b[0;35mparse_filing\u001b[0m\n    return parse_form345(filename)\u001b[0m\n",
      "\u001b[0m  File \u001b[0;32mc:\\users\\jgfri\\onedrive\\desktop\\datamule-python\\datamule\\datamule\\parser\\document_parsing\\insider_trading_parser.py:34\u001b[0m in \u001b[0;35mparse_form345\u001b[0m\n    doc = ET.parse(filepath).getroot()\u001b[0m\n",
      "\u001b[0m  File \u001b[0;32mc:\\Users\\jgfri\\AppData\\Local\\Programs\\Python\\Python311\\Lib\\xml\\etree\\ElementTree.py:1218\u001b[0m in \u001b[0;35mparse\u001b[0m\n    tree.parse(source, parser)\u001b[0m\n",
      "\u001b[1;36m  File \u001b[1;32mc:\\Users\\jgfri\\AppData\\Local\\Programs\\Python\\Python311\\Lib\\xml\\etree\\ElementTree.py:580\u001b[1;36m in \u001b[1;35mparse\u001b[1;36m\n\u001b[1;33m    self._root = parser._parse_whole(source)\u001b[1;36m\n",
      "\u001b[1;36m  File \u001b[1;32m<string>\u001b[1;36m\u001b[0m\n\u001b[1;31mParseError\u001b[0m\u001b[1;31m:\u001b[0m XML or text declaration not at start of entity: line 2, column 0\n"
     ]
    }
   ],
   "source": [
    "# Convert 1 month of 3,4,5 data into csv\n",
    "\n",
    "from datamule import Submission,Portfolio, PremiumDownloader\n",
    "import pandas as pd\n",
    "# I set my api_key using the environment variable 'DATAMULE_API_KEY'\n",
    "#downloader = PremiumDownloader()\n",
    "#downloader.download_submissions(ticker='TSLA',submission_type='4',output_dir='TSLA')\n",
    "portfolio = Portfolio('TSLA')\n",
    "\n",
    "for submission in portfolio:\n",
    "    for form_4 in submission.document_type('4'):\n",
    "        data = form_4.parse()\n",
    "        print(data)\n"
   ]
  }
 ],
 "metadata": {
  "kernelspec": {
   "display_name": "Python 3",
   "language": "python",
   "name": "python3"
  },
  "language_info": {
   "codemirror_mode": {
    "name": "ipython",
    "version": 3
   },
   "file_extension": ".py",
   "mimetype": "text/x-python",
   "name": "python",
   "nbconvert_exporter": "python",
   "pygments_lexer": "ipython3",
   "version": "3.11.5"
  }
 },
 "nbformat": 4,
 "nbformat_minor": 2
}
