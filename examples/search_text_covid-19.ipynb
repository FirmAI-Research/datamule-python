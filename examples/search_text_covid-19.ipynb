{
 "cells": [
  {
   "cell_type": "markdown",
   "metadata": {},
   "source": [
    "Simple demo to showcase new `Portfolio` features as well as selecting documents by text."
   ]
  },
  {
   "cell_type": "code",
   "execution_count": 4,
   "metadata": {},
   "outputs": [
    {
     "name": "stdout",
     "output_type": "stream",
     "text": [
      "Default source: datamule\n"
     ]
    }
   ],
   "source": [
    "from datamule import Portfolio, Config\n",
    "\n",
    "# we can set the default download source for the portfolio to either datamule or sec\n",
    "# datamule is faster, and has more data, but costs $1/100,000 downloads. SEC is free but rate limited at 5 requests per second.\n",
    "# sec is the default source\n",
    "config = Config()\n",
    "config.set_default_source(\"datamule\") # set default source to datamule\n",
    "print(f\"Default source: {config.get_default_source()}\")"
   ]
  },
  {
   "cell_type": "code",
   "execution_count": 5,
   "metadata": {},
   "outputs": [],
   "source": [
    "# Let's subset by some notable companies\n",
    "# Major company ticker symbols\n",
    "tickers = [\n",
    "    # Technology\n",
    "    \"AAPL\",    # Apple Inc.\n",
    "    \"MSFT\",    # Microsoft Corporation\n",
    "    \"GOOGL\",   # Alphabet Inc. (Google)\n",
    "    \"AMZN\",    # Amazon.com Inc.\n",
    "    \"META\",    # Meta Platforms Inc. (formerly Facebook)\n",
    "    \"NVDA\",    # NVIDIA Corporation\n",
    "    \n",
    "    # Financial\n",
    "    \"JPM\",     # JPMorgan Chase & Co.\n",
    "    \"BAC\",     # Bank of America Corporation\n",
    "    \"V\",       # Visa Inc.\n",
    "    \"MA\",      # Mastercard Incorporated\n",
    "    \n",
    "    # Healthcare\n",
    "    \"JNJ\",     # Johnson & Johnson\n",
    "    \"UNH\",     # UnitedHealth Group Inc.\n",
    "    \"PFE\",     # Pfizer Inc.\n",
    "    \n",
    "    # Consumer\n",
    "    \"WMT\",     # Walmart Inc.\n",
    "    \"PG\",      # Procter & Gamble Company\n",
    "    \"KO\",      # The Coca-Cola Company\n",
    "    \"PEP\",     # PepsiCo Inc.\n",
    "    \n",
    "    # Industrial\n",
    "    \"BA\",      # Boeing Company\n",
    "    \"CAT\",     # Caterpillar Inc.\n",
    "    \"GE\"       # General Electric Company\n",
    "]"
   ]
  },
  {
   "cell_type": "code",
   "execution_count": 14,
   "metadata": {},
   "outputs": [
    {
     "name": "stdout",
     "output_type": "stream",
     "text": [
      "\n",
      "Cost: $0.003280000000 downloads + $0.000070564000 row reads = $0.003350564000\n",
      "Balance: $7.480787028000\n"
     ]
    },
    {
     "name": "stderr",
     "output_type": "stream",
     "text": [
      "Processing files: 100%|██████████| 328/328 [00:09<00:00, 36.35it/s]\n"
     ]
    },
    {
     "name": "stdout",
     "output_type": "stream",
     "text": [
      "\n",
      "Processing completed in 9.03 seconds\n",
      "\n",
      "Cost: $0.002890000000 downloads + $0.000072886000 row reads = $0.002962886000\n",
      "Balance: $7.477824142000\n"
     ]
    },
    {
     "name": "stderr",
     "output_type": "stream",
     "text": [
      "Processing files: 100%|██████████| 289/289 [00:11<00:00, 25.80it/s] \n"
     ]
    },
    {
     "name": "stdout",
     "output_type": "stream",
     "text": [
      "\n",
      "Processing completed in 11.21 seconds\n",
      "\n",
      "Cost: $0.002610000000 downloads + $0.000068237000 row reads = $0.002678237000\n",
      "Balance: $7.475145905000\n"
     ]
    },
    {
     "name": "stderr",
     "output_type": "stream",
     "text": [
      "Processing files: 100%|██████████| 261/261 [00:08<00:00, 29.72it/s]\n"
     ]
    },
    {
     "name": "stdout",
     "output_type": "stream",
     "text": [
      "\n",
      "Processing completed in 8.79 seconds\n",
      "\n",
      "Cost: $0.002490000000 downloads + $0.000070589000 row reads = $0.002560589000\n",
      "Balance: $7.472585316000\n"
     ]
    },
    {
     "name": "stderr",
     "output_type": "stream",
     "text": [
      "Processing files: 100%|██████████| 249/249 [00:11<00:00, 21.73it/s]\n"
     ]
    },
    {
     "name": "stdout",
     "output_type": "stream",
     "text": [
      "\n",
      "Processing completed in 11.48 seconds\n",
      "\n",
      "Cost: $0.002520000000 downloads + $0.000067154000 row reads = $0.002587154000\n",
      "Balance: $7.469998162000\n"
     ]
    },
    {
     "name": "stderr",
     "output_type": "stream",
     "text": [
      "Processing files: 100%|██████████| 252/252 [00:10<00:00, 24.57it/s]"
     ]
    },
    {
     "name": "stdout",
     "output_type": "stream",
     "text": [
      "\n",
      "Processing completed in 10.27 seconds\n"
     ]
    },
    {
     "name": "stderr",
     "output_type": "stream",
     "text": [
      "\n"
     ]
    }
   ],
   "source": [
    "for year in range(2020,2025):\n",
    "    # create a portfolio object\n",
    "    portfolio = Portfolio(f'ingest/covid_8k_{year}')\n",
    "    portfolio.download_submissions(submission_type='8-K',filing_date=(f'{year}-01-01',f'{year}-12-31'),ticker=tickers)"
   ]
  },
  {
   "cell_type": "code",
   "execution_count": 15,
   "metadata": {},
   "outputs": [
    {
     "name": "stdout",
     "output_type": "stream",
     "text": [
      "Loading 328 submissions\n"
     ]
    },
    {
     "name": "stderr",
     "output_type": "stream",
     "text": [
      "Loading submissions: 100%|██████████| 328/328 [00:00<00:00, 519.20it/s]\n",
      "Collecting documents: 100%|██████████| 328/328 [00:00<00:00, 18546.86it/s]\n",
      "Searching for '(?i)covid-19': 100%|██████████| 6040/6040 [00:09<00:00, 611.34it/s] \n"
     ]
    },
    {
     "name": "stdout",
     "output_type": "stream",
     "text": [
      "Loading 289 submissions\n"
     ]
    },
    {
     "name": "stderr",
     "output_type": "stream",
     "text": [
      "Loading submissions: 100%|██████████| 289/289 [00:00<00:00, 5468.63it/s]\n",
      "Collecting documents: 100%|██████████| 289/289 [00:00<00:00, 34283.28it/s]\n",
      "Searching for '(?i)covid-19': 100%|██████████| 5299/5299 [00:05<00:00, 1011.34it/s]\n"
     ]
    },
    {
     "name": "stdout",
     "output_type": "stream",
     "text": [
      "Loading 261 submissions\n"
     ]
    },
    {
     "name": "stderr",
     "output_type": "stream",
     "text": [
      "Loading submissions: 100%|██████████| 261/261 [00:00<00:00, 3544.09it/s]\n",
      "Collecting documents: 100%|██████████| 261/261 [00:00<00:00, 16027.08it/s]\n",
      "Searching for '(?i)covid-19': 100%|██████████| 4796/4796 [00:05<00:00, 918.72it/s] \n"
     ]
    },
    {
     "name": "stdout",
     "output_type": "stream",
     "text": [
      "Loading 249 submissions\n"
     ]
    },
    {
     "name": "stderr",
     "output_type": "stream",
     "text": [
      "Loading submissions: 100%|██████████| 249/249 [00:00<00:00, 2633.90it/s]\n",
      "Collecting documents: 100%|██████████| 249/249 [00:00<00:00, 14842.14it/s]\n",
      "Searching for '(?i)covid-19': 100%|██████████| 4940/4940 [00:05<00:00, 842.32it/s] \n"
     ]
    },
    {
     "name": "stdout",
     "output_type": "stream",
     "text": [
      "Loading 252 submissions\n"
     ]
    },
    {
     "name": "stderr",
     "output_type": "stream",
     "text": [
      "Loading submissions: 100%|██████████| 252/252 [00:00<00:00, 6051.59it/s]\n",
      "Collecting documents: 100%|██████████| 252/252 [00:00<00:00, 13912.55it/s]\n",
      "Searching for '(?i)covid-19': 100%|██████████| 4764/4764 [00:05<00:00, 831.16it/s] \n"
     ]
    }
   ],
   "source": [
    "# Let's count the number of documents that mention \"covid-19\" for each company\n",
    "all_documents = {}\n",
    "for year in range(2020, 2025):\n",
    "    portfolio = Portfolio(f'ingest/covid_8k_{year}')\n",
    "    for document in portfolio.contains_string(r'(?i)covid-19'):\n",
    "        doc_type = document.type\n",
    "        if doc_type not in all_documents:\n",
    "            all_documents[doc_type] = {yr: 0 for yr in range(2020, 2025)}\n",
    "        all_documents[doc_type][year] += 1"
   ]
  },
  {
   "cell_type": "code",
   "execution_count": 23,
   "metadata": {},
   "outputs": [
    {
     "data": {
      "text/plain": [
       "<Figure size 1200x600 with 0 Axes>"
      ]
     },
     "metadata": {},
     "output_type": "display_data"
    },
    {
     "data": {
      "image/png": "[encoded data removed]",
      "text/plain": [
       "<Figure size 640x480 with 1 Axes>"
      ]
     },
     "metadata": {},
     "output_type": "display_data"
    },
    {
     "name": "stdout",
     "output_type": "stream",
     "text": [
      "\n",
      "Raw counts:\n",
      "      EX-99.1  EX-99.2  8-K  Other\n",
      "Year                              \n",
      "2020       94       16   40     18\n",
      "2021       85       25   16     21\n",
      "2022       73       22   17     17\n",
      "2023       45       24   14     16\n",
      "2024       21       16    1      8\n"
     ]
    }
   ],
   "source": [
    "import matplotlib.pyplot as plt\n",
    "import pandas as pd\n",
    "import seaborn as sns\n",
    "import numpy as np\n",
    "\n",
    "# Convert to DataFrame \n",
    "df = pd.DataFrame(all_documents)\n",
    "df.index = [str(year) for year in range(2020, 2025)]\n",
    "df.index.name = 'Year'\n",
    "\n",
    "# Calculate total counts for each attachment type\n",
    "type_totals = df.sum()\n",
    "top_3_types = type_totals.nlargest(3).index.tolist()\n",
    "\n",
    "# Create 'Other' category for remaining types\n",
    "df['Other'] = df[df.columns[~df.columns.isin(top_3_types)]].sum(axis=1)\n",
    "df_final = df[top_3_types + ['Other']]\n",
    "\n",
    "# Set up the plot style\n",
    "plt.figure(figsize=(12, 6))\n",
    "\n",
    "# Create stacked bar chart with log transform\n",
    "ax = df_final.plot(kind='bar', stacked=True, \n",
    "                  color=sns.color_palette(\"husl\", len(df_final.columns)),\n",
    "                  width=0.8)\n",
    "\n",
    "# Apply log transform to y-axis\n",
    "plt.yscale('log')\n",
    "\n",
    "# Customize the plot\n",
    "plt.title('SEC 8-K Attachments Mentioning \"COVID-19\" by Year', \n",
    "          pad=20, fontsize=14, fontweight='bold')\n",
    "plt.xlabel('Year', fontsize=12)\n",
    "plt.ylabel('Number of Documents (log scale)', fontsize=12)\n",
    "\n",
    "# Adjust legend\n",
    "plt.legend(title='Document Type', \n",
    "          bbox_to_anchor=(1.05, 1), \n",
    "          loc='upper left', \n",
    "          borderaxespad=0.)\n",
    "\n",
    "# Add gridlines for better readability\n",
    "plt.grid(True, axis='y', alpha=0.3)\n",
    "\n",
    "# Rotate x-axis labels for better readability\n",
    "plt.xticks(rotation=0)\n",
    "\n",
    "# Tight layout to prevent label cutoff\n",
    "plt.tight_layout()\n",
    "\n",
    "# Save the plot\n",
    "plt.savefig('plots/covid_19_mentions_8k.png', \n",
    "            bbox_inches='tight', \n",
    "            dpi=300)\n",
    "\n",
    "# Display plot\n",
    "plt.show()\n",
    "\n",
    "# Print the raw numbers\n",
    "print(\"\\nRaw counts:\")\n",
    "print(df_final)"
   ]
  }
 ],
 "metadata": {
  "kernelspec": {
   "display_name": "Python 3",
   "language": "python",
   "name": "python3"
  },
  "language_info": {
   "codemirror_mode": {
    "name": "ipython",
    "version": 3
   },
   "file_extension": ".py",
   "mimetype": "text/x-python",
   "name": "python",
   "nbconvert_exporter": "python",
   "pygments_lexer": "ipython3",
   "version": "3.11.5"
  }
 },
 "nbformat": 4,
 "nbformat_minor": 2
}
