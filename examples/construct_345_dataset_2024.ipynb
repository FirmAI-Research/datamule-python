{
 "cells": [
  {
   "cell_type": "code",
   "execution_count": 2,
   "metadata": {},
   "outputs": [
    {
     "name": "stdout",
     "output_type": "stream",
     "text": [
      "\n",
      "Cost: $0.250000000000 downloads + $0.000025003000 row reads = $0.250025003000\n",
      "Balance: $11.517985433000\n",
      "\n",
      "Cost: $0.250000000000 downloads + $0.000050003000 row reads = $0.250050003000\n",
      "Balance: $11.267935430000\n",
      "\n",
      "Cost: $0.250000000000 downloads + $0.000075003000 row reads = $0.250075003000\n",
      "Balance: $11.017860427000\n",
      "\n",
      "Cost: $0.250000000000 downloads + $0.000100003000 row reads = $0.250100003000\n",
      "Balance: $10.767760424000\n",
      "\n",
      "Cost: $0.250000000000 downloads + $0.000125003000 row reads = $0.250125003000\n",
      "Balance: $10.517635421000\n",
      "\n",
      "Cost: $0.250000000000 downloads + $0.000150003000 row reads = $0.250150003000\n",
      "Balance: $10.267485418000\n",
      "\n",
      "Cost: $0.250000000000 downloads + $0.000175003000 row reads = $0.250175003000\n",
      "Balance: $10.017310415000\n",
      "\n",
      "Cost: $0.152410000000 downloads + $0.000190247000 row reads = $0.152600247000\n",
      "Balance: $9.864710168000\n"
     ]
    },
    {
     "name": "stderr",
     "output_type": "stream",
     "text": [
      "Processing files: 100%|█████████▉| 190239/190241 [14:26<00:00, 219.58it/s]\n"
     ]
    },
    {
     "name": "stdout",
     "output_type": "stream",
     "text": [
      "\n",
      "Processing completed in 866.50 seconds\n"
     ]
    }
   ],
   "source": [
    "# Dataset construction for insider trading connections\n",
    "\n",
    "from datamule import PremiumDownloader\n",
    "\n",
    "# Note: You could use Downloader() here but it is much slower, since it uses the SEC rate limit of 5 requests per second.\n",
    "# PremiumDownloader() is much faster, since it uses datamule's API\n",
    "# 10 hours vs 15 minutes at the time of writing (Likely will be 1.5 minutes in the future)\n",
    "downloader = PremiumDownloader() \n",
    "\n",
    "downloader.download_submissions(submission_type=['3','4','5'],filing_date= (\"2024-01-01\", \"2024-12-31\"),output_dir=\"345\")"
   ]
  },
  {
   "cell_type": "code",
   "execution_count": null,
   "metadata": {},
   "outputs": [],
   "source": [
    "# Load the portfolio\n",
    "from datamule import Portfolio\n",
    "\n",
    "portfolio = Portfolio(\"345/\")"
   ]
  },
  {
   "cell_type": "code",
   "execution_count": null,
   "metadata": {},
   "outputs": [],
   "source": [
    "# Parse every 3,4,5 document\n",
    "from tqdm import tqdm\n",
    "\n",
    "d_list = []\n",
    "total_submissions = len(portfolio.submissions)\n",
    "for submission in tqdm(portfolio, total=total_submissions, desc=\"Processing submissions\"):\n",
    "    for form in submission.document_type(['3','4','5']):\n",
    "        form.parse()\n",
    "        d_list.append({\n",
    "            'origin': form.data['metadata']['issuer']['cik'],\n",
    "            'destination': form.data['metadata']['reportingOwner']['cik']\n",
    "        })"
   ]
  },
  {
   "cell_type": "code",
   "execution_count": null,
   "metadata": {},
   "outputs": [],
   "source": [
    "# Save the edge list to a CSV file\n",
    "import pandas as pd\n",
    "\n",
    "# Create DataFrame\n",
    "df = pd.DataFrame(d_list)\n",
    "\n",
    "# Write to CSV file without duplicates\n",
    "df.drop_duplicates().to_csv('data/345_edge_list_2024.csv', index=False)"
   ]
  }
 ],
 "metadata": {
  "kernelspec": {
   "display_name": "Python 3",
   "language": "python",
   "name": "python3"
  },
  "language_info": {
   "codemirror_mode": {
    "name": "ipython",
    "version": 3
   },
   "file_extension": ".py",
   "mimetype": "text/x-python",
   "name": "python",
   "nbconvert_exporter": "python",
   "pygments_lexer": "ipython3",
   "version": "3.11.5"
  }
 },
 "nbformat": 4,
 "nbformat_minor": 2
}
